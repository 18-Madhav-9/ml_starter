{
  "nbformat": 4,
  "nbformat_minor": 0,
  "metadata": {
    "colab": {
      "provenance": []
    },
    "kernelspec": {
      "name": "python3",
      "display_name": "Python 3"
    },
    "language_info": {
      "name": "python"
    }
  },
  "cells": [
    {
      "cell_type": "code",
      "execution_count": 2,
      "metadata": {
        "colab": {
          "base_uri": "https://localhost:8080/"
        },
        "id": "0IYK2MzQnzYp",
        "outputId": "fcfe40ff-fca5-44b8-8a20-c24c055a2ae7"
      },
      "outputs": [
        {
          "output_type": "stream",
          "name": "stdout",
          "text": [
            "Using Colab cache for faster access to the 'iris' dataset.\n",
            "Path to dataset files: /kaggle/input/iris\n"
          ]
        }
      ],
      "source": [
        "# downloading the Iris dataset from kaggle\n",
        "# https://www.kaggle.com/datasets/uciml/iris\n",
        "import kagglehub\n",
        "path = kagglehub.dataset_download(\"uciml/iris\")\n",
        "print(\"Path to dataset files:\", path)"
      ]
    },
    {
      "cell_type": "code",
      "source": [
        "#reading the data and making a dataframe\n",
        "import pandas as pd\n",
        "df = pd.read_csv('/kaggle/input/iris/Iris.csv')\n",
        "print(df.info())"
      ],
      "metadata": {
        "colab": {
          "base_uri": "https://localhost:8080/"
        },
        "id": "FBcuIpNJoDl7",
        "outputId": "76b8aa8e-37c4-4a05-abcc-247b848a53bb"
      },
      "execution_count": 3,
      "outputs": [
        {
          "output_type": "stream",
          "name": "stdout",
          "text": [
            "<class 'pandas.core.frame.DataFrame'>\n",
            "RangeIndex: 150 entries, 0 to 149\n",
            "Data columns (total 6 columns):\n",
            " #   Column         Non-Null Count  Dtype  \n",
            "---  ------         --------------  -----  \n",
            " 0   Id             150 non-null    int64  \n",
            " 1   SepalLengthCm  150 non-null    float64\n",
            " 2   SepalWidthCm   150 non-null    float64\n",
            " 3   PetalLengthCm  150 non-null    float64\n",
            " 4   PetalWidthCm   150 non-null    float64\n",
            " 5   Species        150 non-null    object \n",
            "dtypes: float64(4), int64(1), object(1)\n",
            "memory usage: 7.2+ KB\n",
            "None\n"
          ]
        }
      ]
    },
    {
      "cell_type": "code",
      "source": [
        "#simple logistic regression\n",
        "from sklearn.linear_model import LogisticRegression\n",
        "from sklearn.model_selection import train_test_split\n",
        "\n",
        "x = df[['SepalLengthCm','PetalLengthCm','SepalWidthCm','PetalWidthCm']]\n",
        "y = df['Species']\n",
        "\n",
        "x_train,x_test,y_train,y_test = train_test_split(x,y,test_size=0.2,random_state=42)\n",
        "\n",
        "model = LogisticRegression(max_iter=200)\n",
        "model.fit(x_train,y_train)\n",
        "\n",
        "#input = pd.DataFrame([[4.5,1.5]],columns=['SepalLengthCm','PetalLengthCm'])\n",
        "\n",
        "predict = model.predict(x_test)\n",
        "print(predict)"
      ],
      "metadata": {
        "colab": {
          "base_uri": "https://localhost:8080/"
        },
        "id": "26qpqbmvozUE",
        "outputId": "2da443ab-b175-4005-c26a-69585ae8b551"
      },
      "execution_count": 4,
      "outputs": [
        {
          "output_type": "stream",
          "name": "stdout",
          "text": [
            "['Iris-versicolor' 'Iris-setosa' 'Iris-virginica' 'Iris-versicolor'\n",
            " 'Iris-versicolor' 'Iris-setosa' 'Iris-versicolor' 'Iris-virginica'\n",
            " 'Iris-versicolor' 'Iris-versicolor' 'Iris-virginica' 'Iris-setosa'\n",
            " 'Iris-setosa' 'Iris-setosa' 'Iris-setosa' 'Iris-versicolor'\n",
            " 'Iris-virginica' 'Iris-versicolor' 'Iris-versicolor' 'Iris-virginica'\n",
            " 'Iris-setosa' 'Iris-virginica' 'Iris-setosa' 'Iris-virginica'\n",
            " 'Iris-virginica' 'Iris-virginica' 'Iris-virginica' 'Iris-virginica'\n",
            " 'Iris-setosa' 'Iris-setosa']\n"
          ]
        }
      ]
    },
    {
      "cell_type": "code",
      "source": [
        "# Training logistic Regression model on imbalanced dataset\n",
        "\n",
        "import numpy as np\n",
        "from sklearn.metrics import accuracy_score,confusion_matrix,classification_report\n",
        "data = np.genfromtxt('/kaggle/input/iris/Iris.csv', delimiter=',',dtype=None, names=True,encoding='utf-8')\n",
        "\n",
        "x = data[['SepalLengthCm','PetalLengthCm','SepalWidthCm','PetalWidthCm']]\n",
        "x = np.array(x.tolist())\n",
        "y = data['Species']\n",
        "\n",
        "class_0_idx = np.where(y == 'Iris-setosa')[0]\n",
        "class_1_idx = np.where(y == 'Iris-versicolor')[0]\n",
        "class_2_idx = np.where(y == 'Iris-virginica')[0]\n",
        "\n",
        "class_0_subset = np.random.choice(class_0_idx, size=int(len(class_0_idx) * 0.8), replace=False)\n",
        "class_1_subset = np.random.choice(class_1_idx, size=int(len(class_1_idx) * 0.2), replace=False)\n",
        "class_2_subset = np.random.choice(class_2_idx, size=int(len(class_2_idx) * 0.2), replace=False)\n",
        "# Combine the subsets of indices\n",
        "combined_indices = np.concatenate((class_0_subset, class_1_subset,class_2_subset))\n",
        "model2 = LogisticRegression()\n",
        "x_train, x_test, y_train, y_test = train_test_split(x[combined_indices], y[combined_indices], test_size=0.2, random_state=42)\n",
        "\n",
        "model2.fit(x_train, y_train)\n",
        "accuracy = model2.score(x_test,y_test)\n",
        "print(accuracy)\n",
        "\n",
        "# Predict the labels for the test set\n",
        "y_pred = model2.predict(x_test)\n",
        "\n",
        "# Confusion Matrix\n",
        "cm = confusion_matrix(y_test, y_pred)\n",
        "print(\"Confusion Matrix:\")\n",
        "print(cm)\n",
        "\n",
        "# Classification Report (Precision, Recall, F1-score)\n",
        "report = classification_report(y_test, y_pred)\n",
        "print(\"Classification Report:\")\n",
        "print(report)"
      ],
      "metadata": {
        "colab": {
          "base_uri": "https://localhost:8080/"
        },
        "id": "WCYDYcb_yWID",
        "outputId": "a0c9522d-16a4-4c84-d816-08aa5325b2de"
      },
      "execution_count": 36,
      "outputs": [
        {
          "output_type": "stream",
          "name": "stdout",
          "text": [
            "0.9166666666666666\n",
            "Confusion Matrix:\n",
            "[[6 0 0]\n",
            " [0 3 0]\n",
            " [0 1 2]]\n",
            "Classification Report:\n",
            "                 precision    recall  f1-score   support\n",
            "\n",
            "    Iris-setosa       1.00      1.00      1.00         6\n",
            "Iris-versicolor       0.75      1.00      0.86         3\n",
            " Iris-virginica       1.00      0.67      0.80         3\n",
            "\n",
            "       accuracy                           0.92        12\n",
            "      macro avg       0.92      0.89      0.89        12\n",
            "   weighted avg       0.94      0.92      0.91        12\n",
            "\n"
          ]
        }
      ]
    }
  ]
}