{
  "nbformat": 4,
  "nbformat_minor": 0,
  "metadata": {
    "colab": {
      "provenance": []
    },
    "kernelspec": {
      "name": "python3",
      "display_name": "Python 3"
    },
    "language_info": {
      "name": "python"
    }
  },
  "cells": [
    {
      "cell_type": "code",
      "execution_count": null,
      "metadata": {
        "colab": {
          "base_uri": "https://localhost:8080/"
        },
        "id": "6TUrBh4chvgy",
        "outputId": "1a3f8de5-d6d5-4bae-eaed-8442d8a262f4"
      },
      "outputs": [
        {
          "output_type": "stream",
          "name": "stdout",
          "text": [
            "Using Colab cache for faster access to the 'housing-prices-dataset' dataset.\n",
            "Path to dataset files: /kaggle/input/housing-prices-dataset\n"
          ]
        }
      ],
      "source": [
        "#download of the housing price dataset\n",
        "#https://www.kaggle.com/datasets/yasserh/housing-prices-dataset\n",
        "import kagglehub\n",
        "path = kagglehub.dataset_download(\"yasserh/housing-prices-dataset\")\n",
        "print(\"Path to dataset files:\", path)"
      ]
    },
    {
      "cell_type": "code",
      "source": [
        "#using pandas library to read the data and create a dataframe\n",
        "import pandas as pd\n",
        "df = pd.read_csv('/kaggle/input/housing-prices-dataset/Housing.csv')\n",
        "print(df.head)\n"
      ],
      "metadata": {
        "id": "iCsuUzKpiHdk"
      },
      "execution_count": null,
      "outputs": []
    },
    {
      "cell_type": "code",
      "source": [
        "#Getting the list of all features or attributes of dataset\n",
        "feature_list = df.columns.tolist()\n",
        "print(feature_list)"
      ],
      "metadata": {
        "colab": {
          "base_uri": "https://localhost:8080/"
        },
        "id": "G7kvHsOimyCt",
        "outputId": "dad301ee-a580-4770-f485-cfbbcd10f589"
      },
      "execution_count": null,
      "outputs": [
        {
          "output_type": "stream",
          "name": "stdout",
          "text": [
            "['price', 'area', 'bedrooms', 'bathrooms', 'stories', 'mainroad', 'guestroom', 'basement', 'hotwaterheating', 'airconditioning', 'parking', 'prefarea', 'furnishingstatus']\n"
          ]
        }
      ]
    },
    {
      "cell_type": "code",
      "source": [
        "# Fitting a linear regression model using 3 features to predict the price\n",
        "\n",
        "from sklearn.linear_model import LinearRegression\n",
        "\n",
        "x = df[['area','bedrooms','bathrooms']]\n",
        "y = df['price']\n",
        "model = LinearRegression()\n",
        "model.fit(x,y)\n",
        "\n",
        "input_df = pd.DataFrame([[7000,3,2]], columns=['area','bedrooms','bathrooms'])\n",
        "p = model.predict(input_df)\n",
        "print(p[0])"
      ],
      "metadata": {
        "colab": {
          "base_uri": "https://localhost:8080/"
        },
        "id": "UVb1G5-bngTE",
        "outputId": "140d0c61-70d8-405b-b064-7ee38f98eeab"
      },
      "execution_count": null,
      "outputs": [
        {
          "output_type": "stream",
          "name": "stdout",
          "text": [
            "6470726.764352636\n"
          ]
        }
      ]
    },
    {
      "cell_type": "code",
      "source": [
        "'''\n",
        "Random Splitting\n",
        "Using train_test_split to split data into testing and training set\n",
        "and plotting the predicted output v/s training output\n",
        "'''\n",
        "from sklearn.model_selection import train_test_split\n",
        "import matplotlib.pyplot as plt\n",
        "\n",
        "x = df[['area','bedrooms','bathrooms','stories']]\n",
        "y = df['price']\n",
        "\n",
        "x_train,x_test,y_train,y_test = train_test_split(x , y , test_size = 0.2 , random_state = 42)\n",
        "model.fit(x_train,y_train)\n",
        "y_predicted = model.predict(x_test)\n",
        "\n",
        "plt.scatter(y_test,y_predicted)\n",
        "plt.xlabel('Actual Price')\n",
        "plt.ylabel('Predicted Price')\n",
        "plt.title('Actual vs Predicted Prices (Test Set)')\n",
        "plt.plot([y_test.min(), y_test.max()], [y_test.min(), y_test.max()], 'r--')\n",
        "plt.show()\n"
      ],
      "metadata": {
        "id": "WCJCo5CNLZ0M"
      },
      "execution_count": null,
      "outputs": []
    }
  ]
}