{
  "cells": [
    {
      "cell_type": "code",
      "execution_count": null,
      "metadata": {
        "colab": {
          "base_uri": "https://localhost:8080/"
        },
        "id": "6TUrBh4chvgy",
        "outputId": "d9c5d701-efda-4212-9646-1c72da276fc5"
      },
      "outputs": [
        {
          "ename": "",
          "evalue": "",
          "output_type": "error",
          "traceback": [
            "\u001b[1;31mRunning cells with 'myenv (Python 3.13.7)' requires the ipykernel package.\n",
            "\u001b[1;31mInstall 'ipykernel' into the Python environment. \n",
            "\u001b[1;31mCommand: 'f:/ml_starter/myenv/Scripts/python.exe -m pip install ipykernel -U --force-reinstall'"
          ]
        }
      ],
      "source": [
        "#download of the housing price dataset\n",
        "#https://www.kaggle.com/datasets/yasserh/housing-prices-dataset\n",
        "import kagglehub\n",
        "path = kagglehub.dataset_download(\"yasserh/housing-prices-dataset\")\n",
        "print(\"Path to dataset files:\", path)"
      ]
    },
    {
      "cell_type": "code",
      "execution_count": null,
      "metadata": {
        "colab": {
          "base_uri": "https://localhost:8080/"
        },
        "id": "iCsuUzKpiHdk",
        "outputId": "b419d452-64e9-463b-da2d-8a375d32043d"
      },
      "outputs": [
        {
          "name": "stdout",
          "output_type": "stream",
          "text": [
            "<bound method NDFrame.head of         price  area  bedrooms  bathrooms  stories mainroad guestroom basement  \\\n",
            "0    13300000  7420         4          2        3      yes        no       no   \n",
            "1    12250000  8960         4          4        4      yes        no       no   \n",
            "2    12250000  9960         3          2        2      yes        no      yes   \n",
            "3    12215000  7500         4          2        2      yes        no      yes   \n",
            "4    11410000  7420         4          1        2      yes       yes      yes   \n",
            "..        ...   ...       ...        ...      ...      ...       ...      ...   \n",
            "540   1820000  3000         2          1        1      yes        no      yes   \n",
            "541   1767150  2400         3          1        1       no        no       no   \n",
            "542   1750000  3620         2          1        1      yes        no       no   \n",
            "543   1750000  2910         3          1        1       no        no       no   \n",
            "544   1750000  3850         3          1        2      yes        no       no   \n",
            "\n",
            "    hotwaterheating airconditioning  parking prefarea furnishingstatus  \n",
            "0                no             yes        2      yes        furnished  \n",
            "1                no             yes        3       no        furnished  \n",
            "2                no              no        2      yes   semi-furnished  \n",
            "3                no             yes        3      yes        furnished  \n",
            "4                no             yes        2       no        furnished  \n",
            "..              ...             ...      ...      ...              ...  \n",
            "540              no              no        2       no      unfurnished  \n",
            "541              no              no        0       no   semi-furnished  \n",
            "542              no              no        0       no      unfurnished  \n",
            "543              no              no        0       no        furnished  \n",
            "544              no              no        0       no      unfurnished  \n",
            "\n",
            "[545 rows x 13 columns]>\n"
          ]
        }
      ],
      "source": [
        "#using pandas library to read the data and create a dataframe\n",
        "import pandas as pd\n",
        "df = pd.read_csv('/kaggle/input/housing-prices-dataset/Housing.csv')\n",
        "print(df.head)"
      ]
    },
    {
      "cell_type": "code",
      "execution_count": null,
      "metadata": {
        "colab": {
          "base_uri": "https://localhost:8080/"
        },
        "id": "G7kvHsOimyCt",
        "outputId": "0a1d3e9d-aaf2-442f-bbd7-2647be153f0b"
      },
      "outputs": [
        {
          "name": "stdout",
          "output_type": "stream",
          "text": [
            "['price', 'area', 'bedrooms', 'bathrooms', 'stories', 'mainroad', 'guestroom', 'basement', 'hotwaterheating', 'airconditioning', 'parking', 'prefarea', 'furnishingstatus']\n"
          ]
        }
      ],
      "source": [
        "#Getting the list of all features or attributes of dataset\n",
        "feature_list = df.columns.tolist()\n",
        "print(feature_list)"
      ]
    },
    {
      "cell_type": "code",
      "execution_count": null,
      "metadata": {
        "colab": {
          "base_uri": "https://localhost:8080/"
        },
        "id": "UVb1G5-bngTE",
        "outputId": "690bfcb2-0cca-4fa4-b70a-062da2a61595"
      },
      "outputs": [
        {
          "name": "stdout",
          "output_type": "stream",
          "text": [
            "6470726.764352636\n"
          ]
        }
      ],
      "source": [
        "# Fitting a linear regression model using 3 features to predict the price\n",
        "\n",
        "from sklearn.linear_model import LinearRegression\n",
        "\n",
        "x = df[['area','bedrooms','bathrooms']]\n",
        "y = df['price']\n",
        "model = LinearRegression()\n",
        "model.fit(x,y)\n",
        "\n",
        "input_df = pd.DataFrame([[7000,3,2]], columns=['area','bedrooms','bathrooms'])\n",
        "predicted = model.predict(input_df)\n",
        "print(predicted[0])"
      ]
    },
    {
      "cell_type": "code",
      "execution_count": null,
      "metadata": {},
      "outputs": [],
      "source": [
        "'''\n",
        "Using train_test_split to split data into testing and training set \n",
        "and plotting the predicted output v/s training output \n",
        "'''\n",
        "from sklearn.model_selection import train_test_split\n",
        "import matplotlib.pyplot as plt\n",
        "\n",
        "x = df[['area','bedrooms','bathrooms','stories']]\n",
        "y = df['price']\n",
        "\n",
        "x_train,x_test,y_train,y_test = train_test_split(x , y , test_size = 0.2 , random_state = 42)\n",
        "model.fit(x_train,y_train)\n",
        "y_predicted = model.predict(x_test)\n",
        "\n",
        "plt.scatter(y_test,y_predicted)\n",
        "plt.xlabel('Actual Price')\n",
        "plt.ylabel('Predicted Price')\n",
        "plt.title('Actual vs Predicted Prices (Test Set)')\n",
        "plt.plot([y_test.min(), y_test.max()], [y_test.min(), y_test.max()], 'r--')\n",
        "plt.show()\n"
      ]
    }
  ],
  "metadata": {
    "colab": {
      "provenance": []
    },
    "kernelspec": {
      "display_name": "myenv",
      "language": "python",
      "name": "python3"
    },
    "language_info": {
      "name": "python",
      "version": "3.13.7"
    }
  },
  "nbformat": 4,
  "nbformat_minor": 0
}
